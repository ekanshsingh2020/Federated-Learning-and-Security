{
 "cells": [
  {
   "cell_type": "code",
   "execution_count": 1,
   "metadata": {},
   "outputs": [
    {
     "name": "stderr",
     "output_type": "stream",
     "text": [
      "2023-11-27 14:56:49.724044: I tensorflow/tsl/cuda/cudart_stub.cc:28] Could not find cuda drivers on your machine, GPU will not be used.\n",
      "2023-11-27 14:56:49.777246: I tensorflow/tsl/cuda/cudart_stub.cc:28] Could not find cuda drivers on your machine, GPU will not be used.\n",
      "2023-11-27 14:56:49.777909: I tensorflow/core/platform/cpu_feature_guard.cc:182] This TensorFlow binary is optimized to use available CPU instructions in performance-critical operations.\n",
      "To enable the following instructions: AVX2 FMA, in other operations, rebuild TensorFlow with the appropriate compiler flags.\n",
      "2023-11-27 14:56:50.795121: W tensorflow/compiler/tf2tensorrt/utils/py_utils.cc:38] TF-TRT Warning: Could not find TensorRT\n"
     ]
    }
   ],
   "source": [
    "import os\n",
    "import sys\n",
    "import numpy as np\n",
    "import pandas as pd\n",
    "from sklearn.model_selection import train_test_split\n",
    "from tensorflow import keras\n",
    "from sklearn.datasets import fetch_openml\n",
    "from sklearn.preprocessing import LabelEncoder\n",
    "from sklearn.model_selection import train_test_split\n",
    "from tensorflow.keras.models import Sequential\n",
    "from tensorflow.keras.layers import Dense\n",
    "from tensorflow.keras.utils import to_categorical\n",
    "from sklearn.utils import resample\n",
    "import matplotlib.pyplot as plt"
   ]
  },
  {
   "cell_type": "code",
   "execution_count": 2,
   "metadata": {},
   "outputs": [],
   "source": [
    "mnist_train = pd.read_csv('mnist_train.csv')\n",
    "mnist_test = pd.read_csv('mnist_test.csv')\n",
    "x_test = mnist_test.drop('label', axis=1)\n",
    "y_test = mnist_test['label']\n",
    "y_test = to_categorical(y_test,num_classes=10)"
   ]
  },
  {
   "cell_type": "code",
   "execution_count": 3,
   "metadata": {},
   "outputs": [],
   "source": [
    "# Define the number of samples desired for each class in each dataset\n",
    "samples_per_class = 150\n",
    "\n",
    "# Initialize two empty DataFrames to store the selected samples for each dataset\n",
    "selected_data_1 = pd.DataFrame()\n",
    "selected_data_2 = pd.DataFrame()\n",
    "\n",
    "# Iterate over each class label\n",
    "for class_label in range(10):  # 10 classes for digits 0-9\n",
    "    # Filter data for each class label\n",
    "    class_data = mnist_train[mnist_train['label'] == class_label]\n",
    "    \n",
    "    # Select the first 150 samples for the first dataset\n",
    "    first_samples = class_data.head(samples_per_class)\n",
    "    selected_data_1 = pd.concat([selected_data_1, first_samples])\n",
    "    \n",
    "    # Select the next 150 samples for the second dataset\n",
    "    next_samples = class_data.iloc[samples_per_class:samples_per_class*2]\n",
    "    selected_data_2 = pd.concat([selected_data_2, next_samples])\n",
    "\n",
    "# Resetting the index for both datasets\n",
    "selected_data_1 = selected_data_1.reset_index(drop=True)\n",
    "selected_data_2 = selected_data_2.reset_index(drop=True)\n",
    "# shuffle the rows of both datasets\n",
    "selected_data_1 = selected_data_1.sample(frac=1).reset_index(drop=True)\n",
    "selected_data_2 = selected_data_2.sample(frac=1).reset_index(drop=True)\n"
   ]
  },
  {
   "cell_type": "code",
   "execution_count": 4,
   "metadata": {},
   "outputs": [],
   "source": [
    "model_1_train = selected_data_1.drop('label', axis=1)\n",
    "model_1_label = selected_data_1['label']\n",
    "model_2_train = selected_data_2.drop('label', axis=1)\n",
    "model_2_label = selected_data_2['label']\n",
    "model_1_label = to_categorical(model_1_label,num_classes=10)\n",
    "model_2_label = to_categorical(model_2_label,num_classes=10)"
   ]
  },
  {
   "cell_type": "code",
   "execution_count": 5,
   "metadata": {},
   "outputs": [],
   "source": [
    "# Define a common neural network architecture\n",
    "def create_neural_network(input_dim, output_dim):\n",
    "    model = Sequential()\n",
    "    model.add(Dense(128, input_dim=input_dim, activation='relu'))\n",
    "    model.add(Dense(64, activation='relu'))\n",
    "    model.add(Dense(output_dim, activation='softmax'))\n",
    "    model.compile(loss='categorical_crossentropy', optimizer='adam', metrics=['accuracy'])\n",
    "    return model"
   ]
  },
  {
   "cell_type": "code",
   "execution_count": 6,
   "metadata": {},
   "outputs": [],
   "source": [
    "model_1=create_neural_network(model_1_train.shape[1], 10)\n",
    "model_2=create_neural_network(model_2_train.shape[1], 10)"
   ]
  },
  {
   "cell_type": "code",
   "execution_count": 7,
   "metadata": {},
   "outputs": [
    {
     "data": {
      "text/plain": [
       "<keras.src.callbacks.History at 0x7f36d1355b20>"
      ]
     },
     "execution_count": 7,
     "metadata": {},
     "output_type": "execute_result"
    }
   ],
   "source": [
    "# Train the models\n",
    "model_1.fit(model_1_train, model_1_label, epochs=30, batch_size=32, validation_split=0.2, verbose=0)\n",
    "model_2.fit(model_2_train, model_2_label, epochs=30, batch_size=32, validation_split=0.2, verbose=0)"
   ]
  },
  {
   "cell_type": "code",
   "execution_count": 8,
   "metadata": {},
   "outputs": [
    {
     "name": "stderr",
     "output_type": "stream",
     "text": [
      "2023-11-27 14:57:04.967283: W tensorflow/tsl/framework/cpu_allocator_impl.cc:83] Allocation of 62720000 exceeds 10% of free system memory.\n",
      "2023-11-27 14:57:05.378888: W tensorflow/tsl/framework/cpu_allocator_impl.cc:83] Allocation of 62720000 exceeds 10% of free system memory.\n"
     ]
    },
    {
     "name": "stdout",
     "output_type": "stream",
     "text": [
      "0\n"
     ]
    },
    {
     "name": "stderr",
     "output_type": "stream",
     "text": [
      "2023-11-27 14:57:06.905183: W tensorflow/tsl/framework/cpu_allocator_impl.cc:83] Allocation of 62720000 exceeds 10% of free system memory.\n",
      "2023-11-27 14:57:07.403675: W tensorflow/tsl/framework/cpu_allocator_impl.cc:83] Allocation of 62720000 exceeds 10% of free system memory.\n"
     ]
    },
    {
     "name": "stdout",
     "output_type": "stream",
     "text": [
      "1\n"
     ]
    },
    {
     "name": "stderr",
     "output_type": "stream",
     "text": [
      "2023-11-27 14:57:08.854792: W tensorflow/tsl/framework/cpu_allocator_impl.cc:83] Allocation of 62720000 exceeds 10% of free system memory.\n"
     ]
    },
    {
     "name": "stdout",
     "output_type": "stream",
     "text": [
      "2\n",
      "3\n",
      "4\n",
      "5\n",
      "6\n",
      "7\n",
      "8\n",
      "9\n",
      "10\n",
      "11\n",
      "12\n",
      "13\n",
      "14\n",
      "15\n",
      "16\n",
      "17\n",
      "18\n",
      "19\n",
      "20\n",
      "21\n",
      "22\n",
      "23\n",
      "24\n",
      "25\n",
      "26\n",
      "27\n",
      "28\n",
      "29\n",
      "30\n",
      "31\n",
      "32\n",
      "33\n",
      "34\n",
      "35\n",
      "36\n",
      "37\n",
      "38\n",
      "39\n",
      "40\n",
      "41\n",
      "42\n",
      "43\n",
      "44\n",
      "45\n",
      "46\n",
      "47\n",
      "48\n",
      "49\n"
     ]
    }
   ],
   "source": [
    "alpha = 0.5\n",
    "iterations = 50\n",
    "\n",
    "accuracy_array_1 = []\n",
    "accuracy_array_2 = []\n",
    "\n",
    "for i in range(iterations):\n",
    "    # Get the weights of the models\n",
    "    weight_1 = model_1.get_weights()\n",
    "    weight_2 = model_2.get_weights()\n",
    "\n",
    "    # Calculate the average weights\n",
    "    blended_weights = [alpha * w0 + (1 - alpha) * w1 for w0, w1 in zip(weight_1, weight_2)]\n",
    "\n",
    "    # Update the initial models with the averaged weights\n",
    "    model_1.set_weights(blended_weights)\n",
    "    model_2.set_weights(blended_weights)\n",
    "    # Train the models but dont print the logs\n",
    "    model_1.fit(model_1_train, model_1_label, epochs=5, batch_size=32, validation_split=0.2, verbose=0)\n",
    "    model_2.fit(model_2_train, model_2_label, epochs=5, batch_size=32, validation_split=0.2, verbose=0)\n",
    "\n",
    "\n",
    "    # Evaluate the models and dont print the accuracy\n",
    "    accuracy_1 = model_1.evaluate(x_test, y_test, verbose=0)[1]\n",
    "    accuracy_2 = model_2.evaluate(x_test, y_test, verbose=0)[1]\n",
    "    accuracy_array_1.append(accuracy_1)\n",
    "    accuracy_array_2.append(accuracy_2)\n",
    "    print(i)\n"
   ]
  },
  {
   "cell_type": "code",
   "execution_count": 11,
   "metadata": {},
   "outputs": [
    {
     "data": {
      "image/png": "[encoded data removed]",
      "text/plain": [
       "<Figure size 640x480 with 1 Axes>"
      ]
     },
     "metadata": {},
     "output_type": "display_data"
    }
   ],
   "source": [
    "# Plot the accuracies\n",
    "plt.plot(accuracy_array_1, label='Model 1')\n",
    "plt.xlabel('Iterations')\n",
    "plt.ylabel('Accuracy')\n",
    "plt.legend()\n",
    "plt.savefig('approach2model1.png')\n",
    "plt.show()"
   ]
  },
  {
   "cell_type": "code",
   "execution_count": 12,
   "metadata": {},
   "outputs": [
    {
     "data": {
      "image/png": "[encoded data removed]",
      "text/plain": [
       "<Figure size 640x480 with 1 Axes>"
      ]
     },
     "metadata": {},
     "output_type": "display_data"
    }
   ],
   "source": [
    "# Plot the accuracies\n",
    "plt.plot(accuracy_array_2, label='Model 2')\n",
    "plt.xlabel('Iterations')\n",
    "plt.ylabel('Accuracy')\n",
    "plt.legend()\n",
    "plt.savefig('approach2model2.png')\n",
    "plt.show()"
   ]
  },
  {
   "cell_type": "code",
   "execution_count": null,
   "metadata": {},
   "outputs": [],
   "source": [
    "# send the accuracies to the txt file\n",
    "with open('approach2model1.txt', 'w') as f:\n",
    "    for item in accuracy_array_1:\n",
    "        f.write(\"%s\\n\" % item)\n",
    "with open('approach2model2.txt', 'w') as f:\n",
    "    for item in accuracy_array_2:\n",
    "        f.write(\"%s\\n\" % item)\n"
   ]
  }
 ],
 "metadata": {
  "kernelspec": {
   "display_name": "Python 3",
   "language": "python",
   "name": "python3"
  },
  "language_info": {
   "codemirror_mode": {
    "name": "ipython",
    "version": 3
   },
   "file_extension": ".py",
   "mimetype": "text/x-python",
   "name": "python",
   "nbconvert_exporter": "python",
   "pygments_lexer": "ipython3",
   "version": "3.8.10"
  }
 },
 "nbformat": 4,
 "nbformat_minor": 2
}
