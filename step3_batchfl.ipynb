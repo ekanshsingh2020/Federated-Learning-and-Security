{
 "cells": [
  {
   "cell_type": "code",
   "execution_count": 84,
   "metadata": {},
   "outputs": [],
   "source": [
    "import os\n",
    "import sys\n",
    "import numpy as np\n",
    "import pandas as pd\n",
    "from sklearn.model_selection import train_test_split\n",
    "from tensorflow import keras\n",
    "from sklearn.datasets import fetch_openml\n",
    "from sklearn.preprocessing import LabelEncoder\n",
    "from sklearn.model_selection import train_test_split\n",
    "from tensorflow.keras.models import Sequential\n",
    "from tensorflow.keras.layers import Dense\n",
    "from tensorflow.keras.utils import to_categorical\n",
    "from sklearn.utils import resample\n",
    "import matplotlib.pyplot as plt"
   ]
  },
  {
   "cell_type": "code",
   "execution_count": 85,
   "metadata": {},
   "outputs": [],
   "source": [
    "mnist_train = pd.read_csv('mnist_train.csv')\n",
    "mnist_test = pd.read_csv('mnist_test.csv')\n",
    "x_test = mnist_test.drop('label', axis=1)\n",
    "y_test = mnist_test['label']\n",
    "y_test = to_categorical(y_test,num_classes=10)\n",
    "difference_in_accuracy = []\n",
    "correlations = []"
   ]
  },
  {
   "cell_type": "code",
   "execution_count": 86,
   "metadata": {},
   "outputs": [],
   "source": [
    "# Define a common neural network architecture\n",
    "def create_neural_network(input_dim, output_dim):\n",
    "    model = Sequential()\n",
    "    model.add(Dense(128, input_dim=input_dim, activation='relu'))\n",
    "    model.add(Dense(64, activation='relu'))\n",
    "    model.add(Dense(output_dim, activation='softmax'))\n",
    "    model.compile(loss='categorical_crossentropy', optimizer='adam', metrics=['accuracy'])\n",
    "    return model"
   ]
  },
  {
   "cell_type": "code",
   "execution_count": 87,
   "metadata": {},
   "outputs": [],
   "source": [
    "samples_per_class = 100\n",
    "selected_data =[]\n",
    "for i in range (10):\n",
    "    selected_data_1 = pd.DataFrame()\n",
    "    for class_label in range(10):\n",
    "        class_data = mnist_train[mnist_train['label']==class_label]\n",
    "        next_samples = class_data.iloc[i*samples_per_class:(i+1)*samples_per_class]\n",
    "        selected_data_1=pd.concat([selected_data_1, next_samples])\n",
    "    selected_data.append(selected_data_1)"
   ]
  },
  {
   "cell_type": "code",
   "execution_count": 88,
   "metadata": {},
   "outputs": [
    {
     "name": "stdout",
     "output_type": "stream",
     "text": [
      "Done with model  0  and  1\n",
      "1\n",
      "1\n",
      "Done with model  0  and  2\n",
      "2\n",
      "2\n",
      "Done with model  0  and  3\n",
      "3\n",
      "3\n",
      "Done with model  0  and  4\n",
      "4\n",
      "4\n",
      "Done with model  0  and  5\n",
      "5\n",
      "5\n",
      "Done with model  0  and  6\n",
      "6\n",
      "6\n",
      "Done with model  0  and  7\n",
      "7\n",
      "7\n",
      "Done with model  0  and  8\n",
      "8\n",
      "8\n",
      "Done with model  0  and  9\n",
      "9\n",
      "9\n",
      "Done with model  1  and  2\n",
      "10\n",
      "10\n",
      "Done with model  1  and  3\n",
      "11\n",
      "11\n",
      "Done with model  1  and  4\n",
      "12\n",
      "12\n",
      "Done with model  1  and  5\n",
      "13\n",
      "13\n",
      "Done with model  1  and  6\n",
      "14\n",
      "14\n",
      "Done with model  1  and  7\n",
      "15\n",
      "15\n",
      "Done with model  1  and  8\n",
      "16\n",
      "16\n",
      "Done with model  1  and  9\n",
      "17\n",
      "17\n",
      "Done with model  2  and  3\n",
      "18\n",
      "18\n",
      "Done with model  2  and  4\n",
      "19\n",
      "19\n",
      "Done with model  2  and  5\n",
      "20\n",
      "20\n",
      "Done with model  2  and  6\n",
      "21\n",
      "21\n",
      "Done with model  2  and  7\n",
      "22\n",
      "22\n",
      "Done with model  2  and  8\n",
      "23\n",
      "23\n",
      "Done with model  2  and  9\n",
      "24\n",
      "24\n",
      "Done with model  3  and  4\n",
      "25\n",
      "25\n",
      "Done with model  3  and  5\n",
      "26\n",
      "26\n",
      "Done with model  3  and  6\n",
      "27\n",
      "27\n",
      "Done with model  3  and  7\n",
      "28\n",
      "28\n",
      "Done with model  3  and  8\n",
      "29\n",
      "29\n",
      "Done with model  3  and  9\n",
      "30\n",
      "30\n",
      "Done with model  4  and  5\n",
      "31\n",
      "31\n",
      "Done with model  4  and  6\n",
      "32\n",
      "32\n",
      "Done with model  4  and  7\n",
      "33\n",
      "33\n",
      "Done with model  4  and  8\n",
      "34\n",
      "34\n",
      "Done with model  4  and  9\n",
      "35\n",
      "35\n",
      "Done with model  5  and  6\n",
      "36\n",
      "36\n",
      "Done with model  5  and  7\n",
      "37\n",
      "37\n",
      "Done with model  5  and  8\n",
      "38\n",
      "38\n",
      "Done with model  5  and  9\n",
      "39\n",
      "39\n",
      "Done with model  6  and  7\n",
      "40\n",
      "40\n",
      "Done with model  6  and  8\n",
      "41\n",
      "41\n",
      "Done with model  6  and  9\n",
      "42\n",
      "42\n",
      "Done with model  7  and  8\n",
      "43\n",
      "43\n",
      "Done with model  7  and  9\n",
      "44\n",
      "44\n",
      "Done with model  8  and  9\n",
      "45\n",
      "45\n"
     ]
    }
   ],
   "source": [
    "for i in range(10):\n",
    "    for j in range (10):\n",
    "        if(i<j):\n",
    "            \n",
    "            model_1_train = selected_data[i].drop('label', axis=1)\n",
    "            model_1_label = selected_data[i]['label']\n",
    "            model_1_label = to_categorical(model_1_label,num_classes=10)\n",
    "            model_2_train = selected_data[j].drop('label', axis=1)\n",
    "            model_2_label = selected_data[j]['label']\n",
    "            model_2_label = to_categorical(model_2_label,num_classes=10)\n",
    "            # Create the neural networks\n",
    "            model_1=create_neural_network(model_1_train.shape[1], 10)\n",
    "            model_2=create_neural_network(model_2_train.shape[1], 10)\n",
    "            # Train the models\n",
    "            model_1.fit(model_1_train, model_1_label, epochs=30, batch_size=32, validation_split=0.2, verbose=0)\n",
    "            model_2.fit(model_2_train, model_2_label, epochs=30, batch_size=32, validation_split=0.2, verbose=0)\n",
    "            initial_accuracy_1 = model_1.evaluate(x_test, y_test, verbose=0)[1]\n",
    "            initial_accuracy_2 = model_2.evaluate(x_test, y_test, verbose=0)[1]\n",
    "            alpha = 0.5\n",
    "            iterations = 20\n",
    "\n",
    "            accuracy_array_1 = []\n",
    "            accuracy_array_2 = []\n",
    "            max_accuracy_1 = 0\n",
    "            max_accuracy_2 = 0\n",
    "\n",
    "            for k in range(iterations):\n",
    "            # Get the weights of the models\n",
    "                weight_1 = model_1.get_weights()\n",
    "                weight_2 = model_2.get_weights()\n",
    "\n",
    "                # Calculate the average weights\n",
    "                blended_weights = [alpha * w0 + (1 - alpha) * w1 for w0, w1 in zip(weight_1, weight_2)]\n",
    "\n",
    "                # Update the initial models with the averaged weights\n",
    "                model_1.set_weights(blended_weights)\n",
    "                model_2.set_weights(blended_weights)\n",
    "                # Train the models but dont print the logs\n",
    "                model_1.fit(model_1_train, model_1_label, epochs=5, batch_size=32, validation_split=0.2, verbose=0)\n",
    "                model_2.fit(model_2_train, model_2_label, epochs=5, batch_size=32, validation_split=0.2, verbose=0)\n",
    "\n",
    "                # Evaluate the models and dont print the accuracy\n",
    "                accuracy_1 = model_1.evaluate(x_test, y_test, verbose=0)[1]\n",
    "                accuracy_2 = model_2.evaluate(x_test, y_test, verbose=0)[1]\n",
    "                max_accuracy_1 = max(max_accuracy_1, accuracy_1)\n",
    "                max_accuracy_2 = max(max_accuracy_2, accuracy_2)\n",
    "                accuracy_array_1.append(accuracy_1)\n",
    "                accuracy_array_2.append(accuracy_2)\n",
    "                # print(k)\n",
    "            #save the plots of accuracy\n",
    "            plt.plot(accuracy_array_1)\n",
    "            plt.title('Model accuracy')\n",
    "            plt.ylabel('Accuracy')\n",
    "            plt.xlabel('Epoch')\n",
    "            plt.legend(['Model 1'], loc='upper left')\n",
    "            plt.savefig('accuracy_plot_'+str(i)+'_'+str(j)+'1.png')\n",
    "            plt.close()\n",
    "            plt.plot(accuracy_array_2)\n",
    "            plt.title('Model accuracy')\n",
    "            plt.ylabel('Accuracy')\n",
    "            plt.xlabel('Epoch')\n",
    "            plt.legend(['Model 2'], loc='upper left')\n",
    "            plt.savefig('accuracy_plot_'+str(i)+'_'+str(j)+'2.png')\n",
    "            plt.close()\n",
    "            difference_in_accuracy.append((max_accuracy_1-initial_accuracy_1+max_accuracy_2-initial_accuracy_2)/2)\n",
    "            cur_data_1= selected_data[i].drop('label', axis=1)\n",
    "            cur_data_2= selected_data[j].drop('label', axis=1)\n",
    "            correlations.append(np.corrcoef(cur_data_1, cur_data_2).mean())\n",
    "            print('Done with model ', i, ' and ', j)\n",
    "            print(len(difference_in_accuracy))\n",
    "            print(len(correlations))\n",
    "            \n",
    "            "
   ]
  },
  {
   "cell_type": "code",
   "execution_count": 104,
   "metadata": {},
   "outputs": [
    {
     "name": "stdout",
     "output_type": "stream",
     "text": [
      "[0.039599984884262085, 0.058750003576278687, 0.045399993658065796, 0.0475500226020813, 0.04424998164176941, 0.049649953842163086, 0.04330000281333923, 0.05754998326301575, 0.03804999589920044, 0.0317000150680542, 0.039000004529953, 0.046549975872039795, 0.03909999132156372, 0.03434997797012329, 0.030699968338012695, 0.04179999232292175, 0.037099987268447876, 0.05070000886917114, 0.04045000672340393, 0.03329998254776001, 0.020999997854232788, 0.039449989795684814, 0.04794999957084656, 0.02785000205039978, 0.035500019788742065, 0.03685000538825989, 0.044649988412857056, 0.030699968338012695, 0.05059999227523804, 0.04785004258155823, 0.042999982833862305, 0.04879996180534363, 0.04635000228881836, 0.042900025844573975, 0.036500006914138794, 0.027050018310546875, 0.029549986124038696, 0.03255000710487366, 0.036499977111816406, 0.03525000810623169, 0.038600027561187744, 0.031200021505355835, 0.02920001745223999, 0.0394500195980072, 0.04719999432563782]\n",
      "[0.30490726746429253, 0.2998332610969142, 0.29471087669942153, 0.29431413249496546, 0.3083409719241759, 0.3061167700866644, 0.29380320728659876, 0.3063736304622144, 0.29581681420231665, 0.3056807051998857, 0.3004601045182669, 0.30055644151614747, 0.31382816428802407, 0.3119428229811189, 0.2994339866513837, 0.31234944649990803, 0.3023020755273215, 0.29569347024984965, 0.2958974113966986, 0.3088523433391488, 0.3068696832055495, 0.29443580842587624, 0.3074818226149533, 0.2977289064731882, 0.2905690921503091, 0.3035709459141614, 0.3016977076464991, 0.2895861118401202, 0.30222449500455395, 0.2923293291326558, 0.303633744334899, 0.3016072407143026, 0.28919247060531134, 0.3022381461585245, 0.29290437296105165, 0.31513915368327816, 0.3024956793844531, 0.31551414167632247, 0.30536901937204264, 0.3007104159287124, 0.3136138248135169, 0.3035038518103347, 0.3011065332647991, 0.2911732410948839, 0.3042143933148649]\n",
      "45\n",
      "45\n"
     ]
    }
   ],
   "source": [
    "print(difference_in_accuracy)\n",
    "print(correlations)\n",
    "print(len(difference_in_accuracy))\n",
    "print(len(correlations))\n",
    "# Save the results\n",
    "np.save('difference_in_accuracy.npy', difference_in_accuracy)\n",
    "np.save('correlations.npy', correlations)\n",
    "# send these to a txt file\n",
    "with open('difference_in_accuracy.txt', 'w') as f:\n",
    "    for item in difference_in_accuracy:\n",
    "        f.write(\"%s\\n\" % item)\n",
    "with open('correlations.txt', 'w') as f:\n",
    "    for item in correlations:\n",
    "        f.write(\"%s\\n\" % item)"
   ]
  },
  {
   "cell_type": "code",
   "execution_count": 105,
   "metadata": {},
   "outputs": [
    {
     "name": "stderr",
     "output_type": "stream",
     "text": [
      "No artists with labels found to put in legend.  Note that artists whose label start with an underscore are ignored when legend() is called with no argument.\n"
     ]
    },
    {
     "data": {
      "image/png": "[encoded data removed]",
      "text/plain": [
       "<Figure size 640x480 with 1 Axes>"
      ]
     },
     "metadata": {},
     "output_type": "display_data"
    }
   ],
   "source": [
    "# plot the correlation and the corresponding accuracy\n",
    "plt.plot(correlations, difference_in_accuracy, 'ro')\n",
    "plt.xlabel('Correlation')\n",
    "plt.ylabel('Accuracy')\n",
    "plt.legend()\n",
    "plt.savefig('correlation_accuracy.png')\n",
    "plt.show()\n"
   ]
  },
  {
   "cell_type": "code",
   "execution_count": 107,
   "metadata": {},
   "outputs": [
    {
     "name": "stderr",
     "output_type": "stream",
     "text": [
      "No artists with labels found to put in legend.  Note that artists whose label start with an underscore are ignored when legend() is called with no argument.\n"
     ]
    },
    {
     "name": "stdout",
     "output_type": "stream",
     "text": [
      "-0.19400503742073855\n",
      "0.09844360816938252\n"
     ]
    },
    {
     "data": {
      "image/png": "[encoded data removed]",
      "text/plain": [
       "<Figure size 640x480 with 1 Axes>"
      ]
     },
     "metadata": {},
     "output_type": "display_data"
    },
    {
     "ename": "",
     "evalue": "",
     "output_type": "error",
     "traceback": [
      "\u001b[1;31mThe Kernel crashed while executing code in the the current cell or a previous cell. Please review the code in the cell(s) to identify a possible cause of the failure. Click <a href='https://aka.ms/vscodeJupyterKernelCrash'>here</a> for more info. View Jupyter <a href='command:jupyter.viewOutput'>log</a> for further details."
     ]
    }
   ],
   "source": [
    "# how to fit a regression line on the given plot and find the slope and intercept\n",
    "from scipy import stats\n",
    "slope, intercept, r_value, p_value, std_err = stats.linregress(correlations,difference_in_accuracy)\n",
    "print(slope)\n",
    "print(intercept)\n",
    "# print the line on the plot\n",
    "plt.plot(correlations, difference_in_accuracy, 'ro')\n",
    "plt.xlabel('Correlation')\n",
    "plt.ylabel('Accuracy')\n",
    "plt.legend()\n",
    "plt.plot(correlations, intercept + slope*np.array(correlations), 'b', label='fitted line')\n",
    "plt.savefig('correlation_accuracy_fitted_line.png')\n",
    "plt.show()\n",
    "# send the slope and intercept to a txt file\n",
    "with open('slope.txt', 'w') as f:\n",
    "    f.write(\"%s\\n\" % slope)\n",
    "with open('intercept.txt', 'w') as f:\n",
    "    f.write(\"%s\\n\" % intercept)"
   ]
  }
 ],
 "metadata": {
  "kernelspec": {
   "display_name": "Python 3",
   "language": "python",
   "name": "python3"
  },
  "language_info": {
   "codemirror_mode": {
    "name": "ipython",
    "version": 3
   },
   "file_extension": ".py",
   "mimetype": "text/x-python",
   "name": "python",
   "nbconvert_exporter": "python",
   "pygments_lexer": "ipython3",
   "version": "3.8.10"
  }
 },
 "nbformat": 4,
 "nbformat_minor": 2
}
